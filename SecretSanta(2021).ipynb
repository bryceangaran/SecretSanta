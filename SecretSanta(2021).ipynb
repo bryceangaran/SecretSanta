{
  "nbformat": 4,
  "nbformat_minor": 0,
  "metadata": {
    "colab": {
      "name": "SecretSanta(2021).ipynb",
      "provenance": [],
      "authorship_tag": "ABX9TyOEz4QcEZOBvs9ps5DNckfc",
      "include_colab_link": true
    },
    "kernelspec": {
      "name": "python3",
      "display_name": "Python 3"
    },
    "language_info": {
      "name": "python"
    }
  },
  "cells": [
    {
      "cell_type": "markdown",
      "metadata": {
        "id": "view-in-github",
        "colab_type": "text"
      },
      "source": [
        "<a href=\"https://colab.research.google.com/github/bryceangaran/SecretSanta/blob/main/SecretSanta(2021).ipynb\" target=\"_parent\"><img src=\"https://colab.research.google.com/assets/colab-badge.svg\" alt=\"Open In Colab\"/></a>"
      ]
    },
    {
      "cell_type": "code",
      "metadata": {
        "id": "7Fux4o2QAal5"
      },
      "source": [
        "import copy\n",
        "import random\n",
        "import smtplib\n",
        "from email.message import EmailMessage\n",
        "\n",
        "\n",
        "server = smtplib.SMTP(\"smtp.gmail.com\", 587)\n",
        "server.starttls()\n",
        "\n",
        "########################################################\n",
        "#                                                      #\n",
        "#  Watch this video starting at 6:15 to setup email    #\n",
        "#  https://www.youtube.com/watch?v=B1IsCbXp0uE&t=520s  #\n",
        "#                                                      #\n",
        "########################################################\n",
        "\n",
        "password = \"jkioiosdajklasjia\"        #TODO: change\n",
        "fromAddress = \"joeShmo@gmail.com\"     #TODO: change\n",
        "#server.login(fromAddress, password)  #Uncomment once TODOs are complete\n",
        "\n",
        "##################################################################\n",
        "##                                                              ##\n",
        "##   Only thing you really have to do now, is gather the info   ##\n",
        "##   Recommended to add all participants first!                 ##\n",
        "##                                                              ##\n",
        "##################################################################\n",
        "\n",
        "# For more phone carriers visit: \n",
        "# https://www.digitaltrends.com/mobile/how-to-send-a-text-from-your-email-account/\n",
        "\n",
        "Participants = {\n",
        "  \"Person1\" : {\n",
        "    \"email\" : \"person1@gmail.com\",\n",
        "    \"phoneNum\" : \"1234567891@vtext.com\", #Verizon\n",
        "    \"christmasList\" : \"https://www.amazon.com/wishlist/\", #I Used Amazon Wishlist\n",
        "  },\n",
        "  \"Person2\" : {\n",
        "    \"email\" : \"person2@gmail.com\",\n",
        "    \"phoneNum\" : \"1234567891@txt.att.net\", #AT&T\n",
        "    \"christmasList\" : \"https://www.URL-FOR-CHISTMAS-LIST.GoesHere\",\n",
        "  },\n",
        "  \"Person3\" : {\n",
        "    \"email\" : \"person3@gmail.com\",\n",
        "    \"phoneNum\" : \"1234567891@tmomail.net\", #T-Mobile\n",
        "    \"christmasList\" : \"https://www.URL-FOR-CHISTMAS-LIST.GoesHere\",\n",
        "  },\n",
        "    \"Person4\" : {\n",
        "    \"email\" : \"person4@yahoo.com\",\n",
        "    \"phoneNum\" : \"1234567891@email.uscc.net\", #US Cellular\n",
        "    \"christmasList\" : \"https://www.URL-FOR-CHISTMAS-LIST.GoesHere\",\n",
        "  },\n",
        "    \"Person5\" : {\n",
        "    \"email\" : \"person5@yahoo.com\",\n",
        "    \"phoneNum\" : \"1234567891@messaging.sprintpcs.com\", #Sprint\n",
        "    \"christmasList\" : \"https://www.URL-FOR-CHISTMAS-LIST.GoesHere\",\n",
        "  },\n",
        "}\n",
        "names = list(Participants)\n",
        "\n",
        "def addOneMoreParticipant(Participants): #Funtion to add another participant before pairing\n",
        "    name = input(\"Name? \")\n",
        "    email = input(\"Email? \") \n",
        "    phone = input(\"Phone Number without hyphens? \")\n",
        "    phoneProvider = input(\"What is their phone provider: \")\n",
        "    if phoneProvider.lower() == \"verizon\":\n",
        "      phone += \"@vtext.com\"\n",
        "    elif phoneProvider.lower() == \"at&t\":\n",
        "      phone += \"@txt.att.net\"\n",
        "    elif phoneProvider.lower() == \"boost\":\n",
        "      phone += \"@sms.myboostmobile.com\"\n",
        "    elif phoneProvider.lower() == \"sprint\":\n",
        "      phone += \"@messaging.sprintpcs.com\"\n",
        "    elif phoneProvider.lower() == \"t-mobile\":\n",
        "      phone += \"@tmomail.net\"\n",
        "    elif phoneProvider.lower() == \"u.s. cellular\":\n",
        "      phone += \"@email.uscc.net\"\n",
        "    listurl = input(\"What's the list url: \")\n",
        "    Participants.update({name: {'email': email, 'phoneNum': phone, 'christmasList': listurl}})\n",
        "    names = list(Participants)\n",
        "    print(names)\n"
      ],
      "execution_count": 57,
      "outputs": []
    },
    {
      "cell_type": "code",
      "metadata": {
        "id": "i77Nqmgu0j8d"
      },
      "source": [
        "print(names) #display all the participants before assigning pairs!!"
      ],
      "execution_count": null,
      "outputs": []
    },
    {
      "cell_type": "code",
      "metadata": {
        "id": "tBrYDYlKwwHi"
      },
      "source": [
        "addOneMoreParticipant(Participants) #function to add one more participant before assigning pairs!!\n",
        "print(Participants)\n",
        "names = list(Participants)\n"
      ],
      "execution_count": null,
      "outputs": []
    },
    {
      "cell_type": "code",
      "metadata": {
        "id": "BUZ6z_i1fQf5"
      },
      "source": [
        "def secret_santa(names): #Randomly asigns pairs\n",
        "    my_list = names\n",
        "    choose = copy.copy(my_list)\n",
        "    result = []\n",
        "    for i in my_list:\n",
        "        names = copy.copy(my_list)\n",
        "        names.pop(names.index(i))\n",
        "        chosen = random.choice(list(set(choose)&set(names)))\n",
        "        result.append((i,chosen))\n",
        "        choose.pop(choose.index(chosen))\n",
        "    return result\n",
        "\n",
        "pairs = secret_santa(names)"
      ],
      "execution_count": 54,
      "outputs": []
    },
    {
      "cell_type": "code",
      "metadata": {
        "id": "QWEL8WUoL0Zm"
      },
      "source": [
        "#print(pairs)  #Uncomment and run, to take out the \"Secret\" from Secret Santa"
      ],
      "execution_count": null,
      "outputs": []
    },
    {
      "cell_type": "code",
      "metadata": {
        "id": "qppm8v4KDQbo"
      },
      "source": [
        "def sendEmails(pairs):\n",
        "    for gifter, giftee in pairs:  #unpack pairs and send emails\n",
        "        \n",
        "        msg = EmailMessage()\n",
        "        subject = \"Secret Santa 2021\"\n",
        "\n",
        "        toEmail = Participants.get(gifter).get(\"email\")\n",
        "        c_list = Participants.get(giftee).get(\"christmasList\")\n",
        "        \n",
        "        body1 = \"\\nHi \" + gifter + \" you're shopping for \" + giftee + \"\\n\"\n",
        "        body1 += \"Check out their list at: \\n\" + c_list\n",
        "        #print(body1)               #testing purposes          \n",
        "\n",
        "        msg.set_content(body1)\n",
        "        msg['subject'] = subject\n",
        "        msg['to'] = toEmail\n",
        "        msg['from'] = fromAddress\n",
        "        #print(msg)                 #testing purposes \n",
        "\n",
        "        server.send_message(msg)\n",
        "\n",
        "def sendTexts(pairs):\n",
        "    for gifter, giftee in pairs:  #unpack pairs and send texts\n",
        "        \n",
        "        msg = EmailMessage()\n",
        "        subject = \"Secret Santa 2021\"\n",
        "\n",
        "        toNum = Participants.get(gifter).get(\"phoneNum\")\n",
        "        c_list = Participants.get(giftee).get(\"christmasList\")\n",
        "        \n",
        "        body1 = \"\\nYou're shopping for \" + giftee + \"\\n\"\n",
        "        body1 += \"Check out their list at: \\n\" + c_list \n",
        "        #print(body1)             #testing purposes \n",
        "\n",
        "        msg.set_content(body1)\n",
        "        msg['subject'] = subject\n",
        "        msg['to'] = toNum\n",
        "        msg['from'] = fromAddress\n",
        "        #print(msg)                #testing purposes \n",
        "\n",
        "        server.send_message(msg)\n",
        "\n",
        "sendEmails(pairs)\n",
        "sendTexts(pairs)\n",
        "server.quit()"
      ],
      "execution_count": null,
      "outputs": []
    }
  ]
}